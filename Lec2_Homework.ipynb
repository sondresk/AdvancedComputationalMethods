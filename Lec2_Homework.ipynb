{
 "cells": [
  {
   "cell_type": "markdown",
   "metadata": {},
   "source": [
    "## Global Approximation with Interpolation "
   ]
  },
  {
   "cell_type": "markdown",
   "metadata": {},
   "source": [
    "Interpolation: Approximate $e^{x+1}$ on $[−1, 1]$ using 5th order polynomials. \\\n",
    "First use uniform nodes, and then use Chebyshev nodes. Compare the\n",
    "results."
   ]
  },
  {
   "cell_type": "code",
   "execution_count": 1,
   "metadata": {},
   "outputs": [],
   "source": [
    "import numpy as np\n",
    "\n",
    "def f(x):\n",
    "    return np.exp(x + 1)"
   ]
  },
  {
   "cell_type": "markdown",
   "metadata": {},
   "source": [
    "### Uniform nodes"
   ]
  },
  {
   "cell_type": "code",
   "execution_count": 2,
   "metadata": {},
   "outputs": [
    {
     "data": {
      "text/plain": [
       "array([2.71828183, 2.71244772, 1.35817575, 0.48208033, 0.11807047])"
      ]
     },
     "execution_count": 2,
     "metadata": {},
     "output_type": "execute_result"
    }
   ],
   "source": [
    "nrows = 5\n",
    "X = np.zeros((nrows, 5))\n",
    "X[:,0] = 1\n",
    "X[:,1] = np.linspace(-1, 1, nrows)\n",
    "for j in range(1, np.shape(X)[1]):\n",
    "    X[:, j] = X[:, 1]**j\n",
    "\n",
    "f_X = np.array([f(x) for x in X[:, 1]])\n",
    "\n",
    "A_uni = np.linalg.inv(X) @ f_X\n",
    "A_uni"
   ]
  },
  {
   "cell_type": "markdown",
   "metadata": {},
   "source": [
    "### Chebyshev nodes"
   ]
  },
  {
   "cell_type": "code",
   "execution_count": 3,
   "metadata": {},
   "outputs": [
    {
     "data": {
      "text/plain": [
       "array([2.71828183, 2.71098934, 1.35793447, 0.48204544, 0.11806614])"
      ]
     },
     "execution_count": 3,
     "metadata": {},
     "output_type": "execute_result"
    }
   ],
   "source": [
    "nrows = 5\n",
    "X = np.zeros((nrows, 5))\n",
    "X[:,0] = 1\n",
    "X[:,1] = np.array([np.cos((2*k - 1)/(2*nrows)*np.pi) for k in range(1, nrows + 1)])\n",
    "for j in range(1, np.shape(X)[1]):\n",
    "    X[:, j] = X[:, 1]**j\n",
    "\n",
    "f_X = np.array([f(x) for x in X[:, 1]])\n",
    "\n",
    "A_cheb = np.linalg.inv(X) @ f_X\n",
    "A_cheb"
   ]
  },
  {
   "cell_type": "markdown",
   "metadata": {},
   "source": [
    "### Comparison"
   ]
  },
  {
   "cell_type": "code",
   "execution_count": 4,
   "metadata": {},
   "outputs": [],
   "source": [
    "nrows = 50\n",
    "X = np.zeros((nrows, 5))\n",
    "X[:,0] = 1\n",
    "X[:,1] = np.linspace(-1, 1, nrows)\n",
    "for j in range(1, np.shape(X)[1]):\n",
    "    X[:, j] = X[:, 1]**j\n",
    "\n",
    "f_X = np.array([f(x) for x in X[:, 1]])\n",
    "\n",
    "f_X_uni = X @ A_uni\n",
    "f_X_cheb = X @ A_cheb\n"
   ]
  },
  {
   "cell_type": "code",
   "execution_count": 6,
   "metadata": {},
   "outputs": [
    {
     "data": {
      "image/png": "[encoded data removed]",
      "text/plain": [
       "<Figure size 640x480 with 1 Axes>"
      ]
     },
     "metadata": {},
     "output_type": "display_data"
    }
   ],
   "source": [
    "import matplotlib.pyplot as plt\n",
    "\n",
    "plt.plot(X[:,1], f_X, label = \"exp(x + 1)\")\n",
    "plt.plot(X[:,1], f_X_uni, label = \"Approx with uni nodes\")\n",
    "plt.plot(X[:,1], f_X_cheb, label = \"Approx with cheb nodes\")\n",
    "\n",
    "plt.legend()\n",
    "plt.show()"
   ]
  },
  {
   "cell_type": "code",
   "execution_count": 65,
   "metadata": {},
   "outputs": [
    {
     "name": "stdout",
     "output_type": "stream",
     "text": [
      "Diff. with uni nodes: 0.00010036508583761389\n",
      "Diff. with cheb nodes: 5.592027070536347e-05\n",
      "diff_uni / diff_cheb: 1.7947889838807163\n"
     ]
    }
   ],
   "source": [
    "diff_uni = sum((f_X - f_X_uni)**2)\n",
    "diff_cheb = sum((f_X - f_X_cheb)**2)\n",
    "\n",
    "print(f\"Diff. with uni nodes: {diff_uni}\")\n",
    "print(f\"Diff. with cheb nodes: {diff_cheb}\")\n",
    "print(f\"diff_uni / diff_cheb: {diff_uni/diff_cheb}\")"
   ]
  },
  {
   "cell_type": "markdown",
   "metadata": {},
   "source": [
    "## Integration with Gauss-Hermite quadrature"
   ]
  },
  {
   "cell_type": "markdown",
   "metadata": {},
   "source": [
    "Integration: Compute $E[X^2]$, where $log X ∈ N(0, 1)$, by Gauss-Hermite\n",
    "quadrature.\n"
   ]
  },
  {
   "cell_type": "code",
   "execution_count": 6,
   "metadata": {},
   "outputs": [
    {
     "data": {
      "text/plain": [
       "7.3890520070865335"
      ]
     },
     "execution_count": 6,
     "metadata": {},
     "output_type": "execute_result"
    }
   ],
   "source": [
    "import numpy as np\n",
    "\n",
    "X = np.polynomial.hermite.hermgauss(10)[0]\n",
    "W = np.polynomial.hermite.hermgauss(10)[1]\n",
    "\n",
    "E_X2 = 1/np.sqrt(np.pi)*sum([W[i]*np.exp(2*np.sqrt(2)*X[i]) for i in range(len(W))])\n",
    "E_X2"
   ]
  }
 ],
 "metadata": {
  "kernelspec": {
   "display_name": "Python 3",
   "language": "python",
   "name": "python3"
  },
  "language_info": {
   "codemirror_mode": {
    "name": "ipython",
    "version": 3
   },
   "file_extension": ".py",
   "mimetype": "text/x-python",
   "name": "python",
   "nbconvert_exporter": "python",
   "pygments_lexer": "ipython3",
   "version": "3.11.5"
  },
  "orig_nbformat": 4
 },
 "nbformat": 4,
 "nbformat_minor": 2
}
