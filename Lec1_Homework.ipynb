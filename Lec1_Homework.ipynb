{
 "cells": [
  {
   "cell_type": "markdown",
   "metadata": {},
   "source": [
    "## Solving Nonlinear Equations"
   ]
  },
  {
   "cell_type": "markdown",
   "metadata": {},
   "source": [
    "Solve $x^2 − 2x − 3 = 0$ using both bisection method and Newton method. Compare the speed."
   ]
  },
  {
   "cell_type": "code",
   "execution_count": 2,
   "metadata": {},
   "outputs": [],
   "source": [
    "def f(x):\n",
    "    return x**2 - 2*x - 3\n",
    "\n",
    "def f1(x):\n",
    "    return 2*x - 2\n",
    "\n",
    "def bisection(func, x_l, x_r, x_tresh, f_tresh):\n",
    "    i = 0\n",
    "    x_m = (x_l + x_r)/2\n",
    "    while not (x_r - x_l <= x_tresh or abs(func(x_m)) <= f_tresh):\n",
    "        i += 1\n",
    "        if func(x_m)*func(x_l) < 0: \n",
    "            x_r = x_m \n",
    "        else: \n",
    "            x_l = x_m\n",
    "           \n",
    "        x_m = (x_l + x_r)/2\n",
    "        if i >= 10000: \n",
    "            print(\"The bisection method hit the limit of 10 000 iterations.\")\n",
    "            break # Circuit breaker\n",
    "    \n",
    "    return x_m\n",
    "\n",
    "def newton(func, func1, x_k, x_tresh, f_tresh):\n",
    "    k = 0\n",
    "    x_k1 = x_k - func(x_k) / func1(x_k)\n",
    "    while not (abs(x_k - x_k1) <= x_tresh):\n",
    "        k += 1\n",
    "        x_k = x_k1\n",
    "        x_k1 = x_k - func(x_k) / func1(x_k)\n",
    "        if k >= 10000: \n",
    "            print(\"The newton method hit the limit of 10 000 iterations.\")\n",
    "            break # Circuit breaker\n",
    "\n",
    "    if abs(func(x_k1)) <= f_tresh:\n",
    "        return f\"Success! The solution is: {x_k1}\"\n",
    "    else:\n",
    "        return f\"Failure! The solution was not found.\""
   ]
  },
  {
   "cell_type": "code",
   "execution_count": 3,
   "metadata": {},
   "outputs": [
    {
     "name": "stdout",
     "output_type": "stream",
     "text": [
      "3.000001907348633\n",
      "-1.0000019073486328\n"
     ]
    }
   ],
   "source": [
    "print(bisection(f,2,5,0.00001,0.00001))\n",
    "print(bisection(f,-3,2,0.00001,0.00001))"
   ]
  },
  {
   "cell_type": "code",
   "execution_count": 4,
   "metadata": {},
   "outputs": [
    {
     "name": "stdout",
     "output_type": "stream",
     "text": [
      "Success! The solution is: 3.000000000000002\n",
      "Success! The solution is: -1.0\n"
     ]
    }
   ],
   "source": [
    "print(newton(f,f1,2,0.00001,0.00001))\n",
    "print(newton(f,f1,-1,0.00001,0.00001))"
   ]
  },
  {
   "cell_type": "markdown",
   "metadata": {},
   "source": [
    "## Multivariate Optimization"
   ]
  },
  {
   "cell_type": "markdown",
   "metadata": {},
   "source": [
    "Solve the example of consumer spending by comparison method and Newton method and compare the speed. \\\n",
    "Note: This problem can be converted to a 1-D problem.\n",
    "\n",
    "A consumer has \\$1 to spend on good x and y. The price of x is \\$2 and the price of y is \\$3, and his utility function is $x^{1/2} + 2y^{1/2}$."
   ]
  },
  {
   "cell_type": "code",
   "execution_count": 6,
   "metadata": {},
   "outputs": [],
   "source": [
    "# Utility\n",
    "#def u(x, y):\n",
    "#    return x**0.5 + 2*y**0.5\n",
    "# s.t. 1 = 2x + 3y => y = 1/3 - 2/3x\n",
    "def u(x):\n",
    "    return -(x**0.5 + 2*(1/3 - 2/3*x)**0.5)\n",
    "\n",
    "def u1(x):\n",
    "    return -((1/(2*x**0.5)) - (2/(3**0.5*(-2*x+1)**0.5)))\n",
    "\n",
    "def u2(x):\n",
    "    return -(-1/(4*x**1.5) - 2/(3**0.5*(-2*x+1)**1.5))\n",
    "\n",
    "def bracketing(func, a, b, c, x_tresh):\n",
    "    while not c - a < x_tresh:\n",
    "        if b - a < c - b:\n",
    "            d = (b + c)/2\n",
    "        else:\n",
    "            d = (a + b)/2\n",
    "        \n",
    "        if d < b and func(d) > func(b): a, b, c = d, b, c\n",
    "        if d < b and func(d) < func(b): a, b, c = a, d, b\n",
    "        if d > b and func(d) < func(b): a, b, c = b, d, c\n",
    "        if d > b and func(d) > func(b): a, b, c = a, b, d\n",
    "    \n",
    "    return f\"a: {a}, b: {b}, c: {c}, d: {d}, f(a): {func(a)}\""
   ]
  },
  {
   "cell_type": "code",
   "execution_count": 7,
   "metadata": {},
   "outputs": [
    {
     "name": "stdout",
     "output_type": "stream",
     "text": [
      "a: 0.13636358976364135, b: 0.13636362552642822, c: 0.1363636612892151, d: 0.1363636612892151, f(a): -1.3540064007726527\n"
     ]
    }
   ],
   "source": [
    "print(bracketing(u, 0.05, 0.2, 0.3, 0.0000001))"
   ]
  },
  {
   "cell_type": "code",
   "execution_count": 8,
   "metadata": {},
   "outputs": [],
   "source": [
    "def newton(func, func1, x_k, x_tresh, f_tresh):\n",
    "    k = 0\n",
    "    x_k1 = x_k - func(x_k) / func1(x_k)\n",
    "    while not (abs(x_k - x_k1) <= x_tresh):\n",
    "        k += 1\n",
    "        x_k = x_k1\n",
    "        x_k1 = x_k - func(x_k) / func1(x_k)\n",
    "        if k >= 10000: \n",
    "            print(\"The newton method hit the limit of 10 000 iterations.\")\n",
    "            break # Circuit breaker\n",
    "\n",
    "    if abs(func(x_k1)) <= f_tresh:\n",
    "        return f\"Success! The solution is: {x_k1}\"\n",
    "    else:\n",
    "        return f\"Failure! The solution was not found.\""
   ]
  },
  {
   "cell_type": "code",
   "execution_count": 9,
   "metadata": {},
   "outputs": [
    {
     "data": {
      "text/plain": [
       "'Success! The solution is: 0.13636363636337961'"
      ]
     },
     "execution_count": 9,
     "metadata": {},
     "output_type": "execute_result"
    }
   ],
   "source": [
    "newton(u1, u2, 0.05, 0.00001, 0.00001)"
   ]
  }
 ],
 "metadata": {
  "kernelspec": {
   "display_name": "Python 3",
   "language": "python",
   "name": "python3"
  },
  "language_info": {
   "codemirror_mode": {
    "name": "ipython",
    "version": 3
   },
   "file_extension": ".py",
   "mimetype": "text/x-python",
   "name": "python",
   "nbconvert_exporter": "python",
   "pygments_lexer": "ipython3",
   "version": "3.11.5"
  },
  "orig_nbformat": 4
 },
 "nbformat": 4,
 "nbformat_minor": 2
}
