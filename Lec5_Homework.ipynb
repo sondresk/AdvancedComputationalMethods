{
 "cells": [
  {
   "cell_type": "markdown",
   "metadata": {},
   "source": [
    "## EU Call with sequantial pricing formla"
   ]
  },
  {
   "cell_type": "markdown",
   "metadata": {},
   "source": [
    "Find the price of a EU call with $S_0 = K = 50$, $r = 0.1$ (annual), $\\sigma = 0.4$,\n",
    "and maturity in five months with the sequential pricing formula you\n",
    "learned in this class.\n",
    "Use step sizes of 1 month, 1 week (1/4 month), and 1 day (1/30 month).\n",
    "Compare you solution with what you get from the matlab function\n",
    "blsprice."
   ]
  },
  {
   "cell_type": "code",
   "execution_count": 6,
   "metadata": {},
   "outputs": [
    {
     "name": "stdout",
     "output_type": "stream",
     "text": [
      "Price of EU call with step size of 1 month: 6.359545861058918\n",
      "Price of EU call with step size of 1 week: 6.053260644489761\n",
      "Price of EU call with step size of 1 day: 6.108025965389591\n"
     ]
    }
   ],
   "source": [
    "import numpy as np\n",
    "from math import factorial as fact\n",
    "\n",
    "S0 = 50\n",
    "K = 50\n",
    "r = 0.1\n",
    "sigma = 0.4\n",
    "T = 5/12\n",
    "\n",
    "dm = 1/12\n",
    "dw = 1/12 * 1/4\n",
    "dd = 1/12 * 1/30\n",
    "\n",
    "def EU_call_sequential(S0, K, r, T, dt, sigma):\n",
    "    u = np.exp(sigma*np.sqrt(dt))\n",
    "    d = np.exp(-sigma*np.sqrt(dt))\n",
    "    p = (np.exp(r*dt) - d) / (u - d)\n",
    "    n = int(T / dt)\n",
    "\n",
    "    C = np.exp(-r*T) * sum([ (fact(n)/(fact(j)*fact(n-j)) * p**j * (1 - p)**(n-j) \\\n",
    "                               * max(0, u**j * d**(n-j) * S0 - K)) for j in range(n+1) ])\n",
    "    \n",
    "    return C\n",
    "\n",
    "print(f\"Price of EU call with step size of 1 month: {EU_call_sequential(S0, K, r, T, dm, sigma)}\")\n",
    "print(f\"Price of EU call with step size of 1 week: {EU_call_sequential(S0, K, r, T, dw, sigma)}\")\n",
    "print(f\"Price of EU call with step size of 1 day: {EU_call_sequential(S0, K, r, T, dd, sigma)}\")"
   ]
  },
  {
   "cell_type": "markdown",
   "metadata": {},
   "source": [
    "## EU and American call and put with binomial option pricing formula"
   ]
  },
  {
   "cell_type": "markdown",
   "metadata": {},
   "source": [
    "Find the prices of a EU call and put, an American call and put, with $S_0 = K = 50$, $r = 0.1$ (annual), $\\sigma = 0.4$, and maturity in five months with\n",
    "the recursive binomial pricing formulas. \\\n",
    "Are the prices the same for EU and American options?"
   ]
  },
  {
   "cell_type": "code",
   "execution_count": 16,
   "metadata": {},
   "outputs": [
    {
     "name": "stdout",
     "output_type": "stream",
     "text": [
      "Price of EU call: 6.1143110558419895\n",
      "Price of american call: 6.1143110558419895\n",
      "Price of EU put: 4.075694380866513\n",
      "Price of american put: 4.283653034089878\n"
     ]
    }
   ],
   "source": [
    "import numpy as np\n",
    "from numba import njit\n",
    "\n",
    "@njit\n",
    "def binary_option_pricing(S0, K, r, T, subper, sigma, pos=\"call\", op_type=\"EU\"):\n",
    "    ''' Calculate the price of a EU or an American option using the binomial method. \n",
    "        S0: Initial price of underlying.\n",
    "        K: Strike price of option.\n",
    "        r: Annual interest rate.\n",
    "        T: Annual time period. Seven months = 7/12.\n",
    "        subper: Number of subperiods in a year, e.g., 251 for 251 trading days in a year.\n",
    "        sigma: Annual standard deviation.\n",
    "        pos: Position of the option, whether it is a call or a put.\n",
    "        op_type: Whether it is a EU or an American option.\n",
    "    '''\n",
    "\n",
    "    N = int(round(subper * T, 0)) # Trading steps from now to maturity (number of subperiods)\n",
    "    dt = T / N\n",
    "\n",
    "    u = np.exp(sigma*np.sqrt(dt))\n",
    "    d = np.exp(-sigma*np.sqrt(dt))\n",
    "    p = (np.exp(r*dt) - d)/(u - d)\n",
    "\n",
    "    Price = np.zeros((N,N))\n",
    "    S_tn = np.zeros((N,N))\n",
    "    S_tn[0,0] = S0\n",
    "    for it in range(1,N):\n",
    "        for n in range(it+1):\n",
    "            S_tn[it,n] = S0*(u**n)*(d**(it-n))\n",
    "    \n",
    "    # Check if call or put option and set the type variable, i.e., typ=-1: max(K - S, 0)\n",
    "    if pos==\"call\": typ = 1 \n",
    "    elif pos==\"put\": typ = -1\n",
    "    else: \n",
    "        print(\"Please specify 'call' or 'put' for 'pos'\") \n",
    "        return False\n",
    "    \n",
    "    for n in range(N):\n",
    "            Price[N-1,n] = max(typ*(S_tn[N-1,n] - K),0)\n",
    "\n",
    "    if op_type == \"EU\":\n",
    "        for i in range(N-2,0,-1):\n",
    "            for n in range(0,N-1):\n",
    "                Price[i,n] = np.exp(-r*dt)*(p*Price[i+1,n+1] + (1-p)*Price[i+1,n])\n",
    "    elif op_type == \"american\":\n",
    "        for i in range(N-2,0,-1):\n",
    "            for n in range(0,N-1):\n",
    "                Price[i,n] = max(typ*(S_tn[i,n] - K), np.exp(-r*dt)*(p*Price[i+1,n+1] + (1-p)*Price[i+1,n]))\n",
    "    else:\n",
    "        print(\"Please specify 'EU' or 'american' for 'op_type'\") \n",
    "        return False\n",
    "\n",
    "    Price[0,0] = np.exp(-r*dt)*(p*Price[1,1] + (1-p)*Price[1,0])\n",
    "\n",
    "    return Price[0,0]\n",
    "\n",
    "\n",
    "S0 = 50\n",
    "K = 50\n",
    "r = 0.1\n",
    "sigma = 0.4\n",
    "T = 5/12\n",
    "steps = 251*10\n",
    "\n",
    "print(f\"Price of EU call: {binary_option_pricing(S0, K, r, T, steps, sigma, 'call', 'EU')}\")\n",
    "print(f\"Price of american call: {binary_option_pricing(S0, K, r, T, steps, sigma, 'call', 'american')}\")\n",
    "print(f\"Price of EU put: {binary_option_pricing(S0, K, r, T, steps, sigma, 'put', 'EU')}\")\n",
    "print(f\"Price of american put: {binary_option_pricing(S0, K, r, T, steps, sigma, 'put', 'american')}\")\n"
   ]
  }
 ],
 "metadata": {
  "kernelspec": {
   "display_name": "Python 3",
   "language": "python",
   "name": "python3"
  },
  "language_info": {
   "codemirror_mode": {
    "name": "ipython",
    "version": 3
   },
   "file_extension": ".py",
   "mimetype": "text/x-python",
   "name": "python",
   "nbconvert_exporter": "python",
   "pygments_lexer": "ipython3",
   "version": "3.11.5"
  },
  "orig_nbformat": 4
 },
 "nbformat": 4,
 "nbformat_minor": 2
}
